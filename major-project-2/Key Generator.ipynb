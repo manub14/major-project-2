{
 "cells": [
  {
   "cell_type": "code",
   "execution_count": 26,
   "metadata": {},
   "outputs": [],
   "source": [
    "from Crypto.PublicKey import RSA\n",
    "from hashlib import sha512"
   ]
  },
  {
   "cell_type": "code",
   "execution_count": 27,
   "metadata": {},
   "outputs": [],
   "source": [
    "keyPair = RSA.generate(bits=1024)"
   ]
  },
  {
   "cell_type": "code",
   "execution_count": 28,
   "metadata": {},
   "outputs": [
    {
     "name": "stdout",
     "output_type": "stream",
     "text": [
      "Public key:  (n=0xbe1f7b66d2c4f3b9328405d459bcae566629200b04901877f61ab07c76ab9b9bcb251119da4cb83dfae37a30491b5c2a37b4eab26cbdabde43778f8dc63acaca0195f62ecfa4107bb10ade10c17e032e71e51d43501a999ab13716bd4858072f1e8e6f147113b64513bd2204681ddf51f10cc3873c183941c7daff1ca21bbdd1, e=0x10001)\n",
      "Private key: (n=0xbe1f7b66d2c4f3b9328405d459bcae566629200b04901877f61ab07c76ab9b9bcb251119da4cb83dfae37a30491b5c2a37b4eab26cbdabde43778f8dc63acaca0195f62ecfa4107bb10ade10c17e032e71e51d43501a999ab13716bd4858072f1e8e6f147113b64513bd2204681ddf51f10cc3873c183941c7daff1ca21bbdd1, d=0x4767bf8b20c203df9c8f653919f2f96f4db3486b9aed1ba3827507afd74a208964c4a925928d99ecfd5b8e3ab05a6c4516e305fab9488b5250f8889bf0c587ffacdcdfcebebf46c3cc5025f9691a67f6e178f24240c688c4cf9b23df8923dab5c5921832548e4596735eba95c6e1836042980574f6b097cd91d3ddc733f65ab9)\n"
     ]
    }
   ],
   "source": [
    "print(f\"Public key:  (n={hex(keyPair.n)}, e={hex(keyPair.e)})\")\n",
    "print(f\"Private key: (n={hex(keyPair.n)}, d={hex(keyPair.d)})\")"
   ]
  },
  {
   "cell_type": "code",
   "execution_count": 29,
   "metadata": {},
   "outputs": [
    {
     "data": {
      "text/plain": [
       "50142483331492421123895155542611545204680295729742961059172638871331751378091282713258368733491293630941663972021471943862410154941903633165827206679197292699312916830278423427740587188414119168246862822370121172442934535795113190706212218282275843713834595153380211289024602792039882357353719424648155126457"
      ]
     },
     "execution_count": 29,
     "metadata": {},
     "output_type": "execute_result"
    }
   ],
   "source": [
    "keyPair.d"
   ]
  },
  {
   "cell_type": "code",
   "execution_count": 30,
   "metadata": {},
   "outputs": [
    {
     "data": {
      "text/plain": [
       "133508894535468383976465296530272724387711568263596507635288747611540951899974339610742411297912525826400578196732396472938603003348807118176193127656396909906827900902565869436550697868759598017176450909441967022598856731670993890051912696148209965192551849038078358945678337122307755281528100451216877403601"
      ]
     },
     "execution_count": 30,
     "metadata": {},
     "output_type": "execute_result"
    }
   ],
   "source": [
    "keyPair.n"
   ]
  },
  {
   "cell_type": "code",
   "execution_count": 44,
   "metadata": {},
   "outputs": [
    {
     "data": {
      "text/plain": [
       "65537"
      ]
     },
     "execution_count": 44,
     "metadata": {},
     "output_type": "execute_result"
    }
   ],
   "source": [
    "keyPair.e"
   ]
  },
  {
   "cell_type": "code",
   "execution_count": 32,
   "metadata": {},
   "outputs": [],
   "source": [
    "msg = b'A message for signing'"
   ]
  },
  {
   "cell_type": "code",
   "execution_count": 33,
   "metadata": {},
   "outputs": [
    {
     "data": {
      "text/plain": [
       "6866940647303413929360886659707398310585944768741832085930808557104870898512982844426348355404789362574208870076646140489606711762682989682230668797895224"
      ]
     },
     "execution_count": 33,
     "metadata": {},
     "output_type": "execute_result"
    }
   ],
   "source": [
    "hashh = int.from_bytes(sha512(msg).digest(), byteorder='big')\n",
    "hashh"
   ]
  },
  {
   "cell_type": "code",
   "execution_count": 34,
   "metadata": {},
   "outputs": [
    {
     "data": {
      "text/plain": [
       "'0xb6985c6fcbb9d199b272359ab75208c870c10a4cc0e1854bc24dd6349e69d0470ec169fe597787e8ec43f4ab36b98b31dab64bd1407da13934d7ea703c63d1e3a86f5f8942d431a04b197dad8eaa2608010805e21933bbf0141acc60d992cdabd7b08a42d26ea38c4b5c223ee7ed53f40a3f4e066f1717220e3e82ec67af3b68'"
      ]
     },
     "execution_count": 34,
     "metadata": {},
     "output_type": "execute_result"
    }
   ],
   "source": [
    "signature = pow(hashh, keyPair.d, keyPair.n)\n",
    "hex(signature)"
   ]
  },
  {
   "cell_type": "code",
   "execution_count": 35,
   "metadata": {},
   "outputs": [
    {
     "data": {
      "text/plain": [
       "258"
      ]
     },
     "execution_count": 35,
     "metadata": {},
     "output_type": "execute_result"
    }
   ],
   "source": [
    "len(hex(signature))"
   ]
  },
  {
   "cell_type": "code",
   "execution_count": 36,
   "metadata": {},
   "outputs": [],
   "source": [
    "hashFromSignature = pow(signature, keyPair.e, keyPair.n)"
   ]
  },
  {
   "cell_type": "code",
   "execution_count": 37,
   "metadata": {},
   "outputs": [],
   "source": [
    "l1 = [1,2,3,4,5,6]"
   ]
  },
  {
   "cell_type": "code",
   "execution_count": 38,
   "metadata": {},
   "outputs": [
    {
     "data": {
      "text/plain": [
       "[1, 2, 3]"
      ]
     },
     "execution_count": 38,
     "metadata": {},
     "output_type": "execute_result"
    }
   ],
   "source": [
    "l1[:3]"
   ]
  },
  {
   "cell_type": "code",
   "execution_count": 39,
   "metadata": {},
   "outputs": [],
   "source": [
    "l2 = [str(x) for x in l1]"
   ]
  },
  {
   "cell_type": "code",
   "execution_count": 40,
   "metadata": {},
   "outputs": [
    {
     "data": {
      "text/plain": [
       "['1', '2', '3', '4', '5', '6']"
      ]
     },
     "execution_count": 40,
     "metadata": {},
     "output_type": "execute_result"
    }
   ],
   "source": [
    "l2"
   ]
  },
  {
   "cell_type": "code",
   "execution_count": 41,
   "metadata": {},
   "outputs": [],
   "source": [
    "#"
   ]
  },
  {
   "cell_type": "code",
   "execution_count": null,
   "metadata": {},
   "outputs": [],
   "source": []
  },
  {
   "cell_type": "code",
   "execution_count": null,
   "metadata": {},
   "outputs": [],
   "source": []
  },
  {
   "cell_type": "code",
   "execution_count": null,
   "metadata": {},
   "outputs": [],
   "source": []
  },
  {
   "cell_type": "code",
   "execution_count": null,
   "metadata": {},
   "outputs": [],
   "source": []
  },
  {
   "cell_type": "code",
   "execution_count": null,
   "metadata": {},
   "outputs": [],
   "source": []
  },
  {
   "cell_type": "code",
   "execution_count": null,
   "metadata": {},
   "outputs": [],
   "source": []
  }
 ],
 "metadata": {
  "kernelspec": {
   "display_name": "Python 3",
   "language": "python",
   "name": "python3"
  },
  "language_info": {
   "codemirror_mode": {
    "name": "ipython",
    "version": 3
   },
   "file_extension": ".py",
   "mimetype": "text/x-python",
   "name": "python",
   "nbconvert_exporter": "python",
   "pygments_lexer": "ipython3",
   "version": "3.11.3"
  }
 },
 "nbformat": 4,
 "nbformat_minor": 2
}
